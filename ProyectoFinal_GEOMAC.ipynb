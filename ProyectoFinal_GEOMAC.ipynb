{
 "cells": [
  {
   "cell_type": "code",
   "execution_count": 6,
   "id": "5391f586-bf37-43b4-8a7c-f7a7da83b33d",
   "metadata": {},
   "outputs": [
    {
     "data": {
      "application/vnd.jupyter.widget-view+json": {
       "model_id": "e7595720ff094afa820e8f4502e02a4c",
       "version_major": 2,
       "version_minor": 0
      },
      "text/plain": [
       "interactive(children=(FloatSlider(value=0.0, description='Tiempo (t) [s]', max=1.0, step=0.01), Output()), _do…"
      ]
     },
     "metadata": {},
     "output_type": "display_data"
    },
    {
     "data": {
      "text/plain": [
       "<function __main__.visualize_simulation(t)>"
      ]
     },
     "execution_count": 6,
     "metadata": {},
     "output_type": "execute_result"
    }
   ],
   "source": [
    "import numpy as np\n",
    "import matplotlib.pyplot as plt\n",
    "from ipywidgets import interact, widgets\n",
    "\n",
    "# Parámetros del problema\n",
    "Lx = 20  # Longitud en la dirección x\n",
    "Ly = 20  # Longitud en la dirección y\n",
    "Nx = 20   # Número de nodos en x\n",
    "Ny = 20   # Número de nodos en y\n",
    "dx = Lx / (Nx - 1)\n",
    "dy = Ly / (Ny - 1)\n",
    "\n",
    "# Propiedades del medio poroso\n",
    "mu = 1.0  # Viscosidad\n",
    "phi = 0.2  # Porosidad\n",
    "cT = 1.0  # Constante relacionada con la compresibilidad\n",
    "rho_agua = 1000.0  # Densidad del agua\n",
    "k11 = 1.0  # Permeabilidad en dirección x (definida por el usuario)\n",
    "k22 = 1.0  # Permeabilidad en dirección y (definida por el usuario)\n",
    "dt = 0.01  # Paso de tiempo\n",
    "T = 1  # Tiempo total de simulación\n",
    "\n",
    "# Condiciones iniciales y de frontera\n",
    "p0 = 508.56  # Presión inicial en cada nodo (excepto el punto de inyección)\n",
    "\n",
    "# Definir los nodos de inicio y fin\n",
    "start_node = (1, 1)\n",
    "end_node = (Nx-1, Ny-1)\n",
    "\n",
    "# Inicialización de matrices para la presión y la velocidad\n",
    "p_backward = np.full((Nx, Ny), p0)  # Inicializar con la presión inicial en todos los nodos\n",
    "p_backward[nodo_inicial] = p0  # Establecer la presión inicial en el punto de inyección\n",
    "\n",
    "# Fronteras cerradas en tres lados\n",
    "p_backward[:, 0] = p_backward[:, 1]  # Frontera izquierda\n",
    "p_backward[:, -1] = p_backward[:, -2]  # Frontera derecha\n",
    "p_backward[0, :] = p_backward[1, :]  # Frontera inferior\n",
    "\n",
    "# Realizar la simulación (Euler hacia atrás)\n",
    "timesteps = int(T / dt)\n",
    "rho = rho_agua\n",
    "\n",
    "# Crear posiciones de los nodos\n",
    "x_nodes = np.linspace(0, Lx, Nx)\n",
    "y_nodes = np.linspace(0, Ly, Ny)\n",
    "X, Y = np.meshgrid(x_nodes, y_nodes)\n",
    "\n",
    "# Función para visualizar la simulación en un tiempo específico\n",
    "def visualize_simulation(t):\n",
    "    current_time = int(t / dt)\n",
    "    \n",
    "    # Copiar la matriz de presiones actual para usarla en el cálculo\n",
    "    p_current = np.copy(p_backward)\n",
    "\n",
    "    # Ciclo principal\n",
    "    for _ in range(1, current_time + 1):\n",
    "        # Calcular las derivadas parciales de la presión\n",
    "        d2p_dx2 = np.gradient(np.gradient(p_current, dx, axis=0), dx, axis=0)\n",
    "        d2p_dy2 = np.gradient(np.gradient(p_current, dy, axis=1), dy, axis=1)\n",
    "\n",
    "        # Construir matriz del sistema para la ecuación de flujo (Euler hacia atrás)\n",
    "        A = np.eye((end_node[0] - start_node[0] + 1) * (end_node[1] - start_node[1] + 1))  # Matriz identidad\n",
    "        b = np.zeros((end_node[0] - start_node[0] + 1) * (end_node[1] - start_node[1] + 1))  # Vector de términos independientes\n",
    "\n",
    "        idx = 0\n",
    "        for i in range(start_node[0], end_node[0] + 1):\n",
    "            for j in range(start_node[1], end_node[1] + 1):\n",
    "                A[idx, idx] = 1 + dt * rho_agua * phi * cT * (k11 / dx**2 + k22 / dy**2)\n",
    "                if i > start_node[0]:\n",
    "                    A[idx, idx - (end_node[1] - start_node[1] + 1)] = -dt * rho_agua * phi * cT * k22 / dy**2\n",
    "                if i < end_node[0]:\n",
    "                    A[idx, idx + (end_node[1] - start_node[1] + 1)] = -dt * rho_agua * phi * cT * k22 / dy**2\n",
    "                if j > start_node[1]:\n",
    "                    A[idx, idx - 1] = -dt * rho_agua * phi * cT * k11 / dx**2\n",
    "                if j < end_node[1]:\n",
    "                    A[idx, idx + 1] = -dt * rho_agua * phi * cT * k11 / dx**2\n",
    "\n",
    "                rhs = k11 * d2p_dx2[i, j] + k22 * d2p_dy2[i, j]\n",
    "                b[idx] = p_current[i, j] + dt * rho_agua * phi * cT * rhs\n",
    "                idx += 1\n",
    "\n",
    "        # Resolver el sistema de ecuaciones lineales Ax = b\n",
    "        x = np.linalg.solve(A, b)\n",
    "\n",
    "        # Actualizar la matriz de presiones con los nuevos valores\n",
    "        idx = 0\n",
    "        for i in range(start_node[0], end_node[0] + 1):\n",
    "            for j in range(start_node[1], end_node[1] + 1):\n",
    "                p_current[i, j] = x[idx]\n",
    "                idx += 1\n",
    "\n",
    "    # Visualizar la simulación con nodos, malla y campo de velocidades\n",
    "    plt.figure(figsize=(8, 8))\n",
    "    plt.imshow(p_current, cmap='viridis', extent=[0, Lx, 0, Ly], origin='lower')\n",
    "    plt.colorbar(label='Presión [kPa]')\n",
    "    plt.scatter(X, Y, c='red', s=5, marker='.')  # Añadir nodos\n",
    "    plt.title(f'Simulación en el tiempo t = {t:.2f} [s]')\n",
    "    plt.xlabel('x * 10 [m]')\n",
    "    plt.ylabel('y * 10 [m]')\n",
    "    plt.grid(True, linestyle='--', linewidth=0.5, color='white')\n",
    "\n",
    "    plt.show()\n",
    "\n",
    "# Crear el deslizador interactivo\n",
    "interact(visualize_simulation, t=widgets.FloatSlider(min=0, max=T, step=dt, value=0, description='Tiempo (t) [s]'))"
   ]
  },
  {
   "cell_type": "code",
   "execution_count": null,
   "id": "1149d7a0-79bd-4aad-863a-6ab725aef227",
   "metadata": {},
   "outputs": [],
   "source": []
  }
 ],
 "metadata": {
  "kernelspec": {
   "display_name": "Python 3 (ipykernel)",
   "language": "python",
   "name": "python3"
  },
  "language_info": {
   "codemirror_mode": {
    "name": "ipython",
    "version": 3
   },
   "file_extension": ".py",
   "mimetype": "text/x-python",
   "name": "python",
   "nbconvert_exporter": "python",
   "pygments_lexer": "ipython3",
   "version": "3.11.6"
  }
 },
 "nbformat": 4,
 "nbformat_minor": 5
}
