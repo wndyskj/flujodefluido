{
 "cells": [
  {
   "cell_type": "code",
   "execution_count": null,
   "id": "454aebca-70ad-4b45-9d16-7265bac0ed59",
   "metadata": {},
   "outputs": [],
   "source": [
    "import no as numpy\n",
    "import matplotlib.pyplot as plt\n",
    "import mcti.visual as mvis"
   ]
  },
  {
   "cell_type": "code",
   "execution_count": null,
   "id": "6d8437e0-3d3c-4dad-88e6-8cfe44207ebb",
   "metadata": {},
   "outputs": [],
   "source": []
  }
 ],
 "metadata": {
  "kernelspec": {
   "display_name": "Python 3 (ipykernel)",
   "language": "python",
   "name": "python3"
  },
  "language_info": {
   "codemirror_mode": {
    "name": "ipython",
    "version": 3
   },
   "file_extension": ".py",
   "mimetype": "text/x-python",
   "name": "python",
   "nbconvert_exporter": "python",
   "pygments_lexer": "ipython3",
   "version": "3.11.5"
  }
 },
 "nbformat": 4,
 "nbformat_minor": 5
}
